{
 "cells": [
  {
   "cell_type": "code",
   "execution_count": 7,
   "metadata": {},
   "outputs": [],
   "source": [
    "#import libraries\n",
    "import math \n",
    "import pandas_datareader as web\n",
    "import numpy as np\n",
    "import pandas as pd\n",
    "from sklearn.preprocessing import MinMaxScaler\n",
    "from keras.models import sequential\n",
    "from keras.layers import Dense, LSTM\n",
    "import matplotlib.pyplot as plt\n",
    "import seaborn as sns\n",
    "plt.style.use('fivethirtyeight')\n",
    "\n"
   ]
  },
  {
   "cell_type": "code",
   "execution_count": 11,
   "metadata": {},
   "outputs": [],
   "source": [
    "#Get the stock quote\n",
    "df=web.DataReader('TSLA', data_source='yahoo', start='2015-01-01', end='2021-12-31')\n",
    "dp=web.DataReader('PLTR', data_source='yahoo', start='2015-01-01', end='2021-12-31')\n",
    "da=web.DataReader('ASML', data_source='yahoo', start='2015-01-01', end='2021-12-31')\n",
    "ds=web.DataReader('SQ', data_source='yahoo', start='2015-01-01', end='2021-12-31')\n",
    "dr=web.DataReader('RBLX', data_source='yahoo', start='2015-01-01', end='2021-12-31')\n",
    "dm=web.DataReader('AMD', data_source='yahoo', start='2015-01-01', end='2021-12-31')\n",
    "dn=web.DataReader('NVDA', data_source='yahoo', start='2015-01-01', end='2021-12-31')\n",
    "\n"
   ]
  },
  {
   "cell_type": "code",
   "execution_count": 12,
   "metadata": {},
   "outputs": [
    {
     "data": {
      "text/html": [
       "<div>\n",
       "<style scoped>\n",
       "    .dataframe tbody tr th:only-of-type {\n",
       "        vertical-align: middle;\n",
       "    }\n",
       "\n",
       "    .dataframe tbody tr th {\n",
       "        vertical-align: top;\n",
       "    }\n",
       "\n",
       "    .dataframe thead th {\n",
       "        text-align: right;\n",
       "    }\n",
       "</style>\n",
       "<table border=\"1\" class=\"dataframe\">\n",
       "  <thead>\n",
       "    <tr style=\"text-align: right;\">\n",
       "      <th></th>\n",
       "      <th>High</th>\n",
       "      <th>Low</th>\n",
       "      <th>Open</th>\n",
       "      <th>Close</th>\n",
       "      <th>Volume</th>\n",
       "      <th>Adj Close</th>\n",
       "    </tr>\n",
       "    <tr>\n",
       "      <th>Date</th>\n",
       "      <th></th>\n",
       "      <th></th>\n",
       "      <th></th>\n",
       "      <th></th>\n",
       "      <th></th>\n",
       "      <th></th>\n",
       "    </tr>\n",
       "  </thead>\n",
       "  <tbody>\n",
       "    <tr>\n",
       "      <th>2015-01-02</th>\n",
       "      <td>5.0700</td>\n",
       "      <td>4.9525</td>\n",
       "      <td>5.0325</td>\n",
       "      <td>5.0325</td>\n",
       "      <td>11368000.0</td>\n",
       "      <td>4.839472</td>\n",
       "    </tr>\n",
       "    <tr>\n",
       "      <th>2015-01-05</th>\n",
       "      <td>5.0475</td>\n",
       "      <td>4.9250</td>\n",
       "      <td>5.0325</td>\n",
       "      <td>4.9475</td>\n",
       "      <td>19795200.0</td>\n",
       "      <td>4.757731</td>\n",
       "    </tr>\n",
       "  </tbody>\n",
       "</table>\n",
       "</div>"
      ],
      "text/plain": [
       "              High     Low    Open   Close      Volume  Adj Close\n",
       "Date                                                             \n",
       "2015-01-02  5.0700  4.9525  5.0325  5.0325  11368000.0   4.839472\n",
       "2015-01-05  5.0475  4.9250  5.0325  4.9475  19795200.0   4.757731"
      ]
     },
     "execution_count": 12,
     "metadata": {},
     "output_type": "execute_result"
    }
   ],
   "source": [
    "df.head(2)\n",
    "dp.head(2)\n",
    "da.head(2)\n",
    "ds.head(2)\n",
    "dr.head(2)\n",
    "dm.head(2)\n",
    "dn.head(2)"
   ]
  }
 ],
 "metadata": {
  "interpreter": {
   "hash": "6a22721d4c9fa5e000d4c0747d20bdcc2c031421878bc0f8ab9597cef4e6fcc9"
  },
  "kernelspec": {
   "display_name": "Python 3.8.8 64-bit ('base': conda)",
   "language": "python",
   "name": "python3"
  },
  "language_info": {
   "codemirror_mode": {
    "name": "ipython",
    "version": 3
   },
   "file_extension": ".py",
   "mimetype": "text/x-python",
   "name": "python",
   "nbconvert_exporter": "python",
   "pygments_lexer": "ipython3",
   "version": "3.8.8"
  },
  "orig_nbformat": 4
 },
 "nbformat": 4,
 "nbformat_minor": 2
}
